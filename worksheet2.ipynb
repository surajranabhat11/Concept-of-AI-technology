{
  "nbformat": 4,
  "nbformat_minor": 0,
  "metadata": {
    "colab": {
      "provenance": []
    },
    "kernelspec": {
      "name": "python3",
      "display_name": "Python 3"
    },
    "language_info": {
      "name": "python"
    }
  },
  "cells": [
    {
      "cell_type": "markdown",
      "source": [
        "Problem 1 - Data Read, Write and Inspect:"
      ],
      "metadata": {
        "id": "W8is_EW9wkyi"
      }
    },
    {
      "cell_type": "code",
      "execution_count": null,
      "metadata": {
        "id": "-7G9NY9-wfqJ"
      },
      "outputs": [],
      "source": [
        "#Load the provided dataset and import in pandas DataFrame.\n",
        "import pandas as pd\n",
        "df = pd.read_csv('/content/drive/MyDrive/Concept of AI -- week 2/Copy of bank .csv')\n"
      ]
    },
    {
      "cell_type": "code",
      "source": [
        "#Check info of the DataFrame and identify following:\n",
        "df_info = df.info()\n",
        "#(a) columns with dtypes=object\n",
        "object_col = df.select_dtypes(include=['object']).columns\n",
        "print(\"Column with datatypes objects\",object_col)"
      ],
      "metadata": {
        "colab": {
          "base_uri": "https://localhost:8080/"
        },
        "id": "cqkcf8jTyJRf",
        "outputId": "2212a852-3c71-45d0-c664-e6f1ab993ff8"
      },
      "execution_count": null,
      "outputs": [
        {
          "output_type": "stream",
          "name": "stdout",
          "text": [
            "<class 'pandas.core.frame.DataFrame'>\n",
            "RangeIndex: 45211 entries, 0 to 45210\n",
            "Data columns (total 17 columns):\n",
            " #   Column     Non-Null Count  Dtype \n",
            "---  ------     --------------  ----- \n",
            " 0   age        45211 non-null  int64 \n",
            " 1   job        45211 non-null  object\n",
            " 2   marital    45211 non-null  object\n",
            " 3   education  45211 non-null  object\n",
            " 4   default    45211 non-null  object\n",
            " 5   balance    45211 non-null  int64 \n",
            " 6   housing    45211 non-null  object\n",
            " 7   loan       45211 non-null  object\n",
            " 8   contact    45211 non-null  object\n",
            " 9   day        45211 non-null  int64 \n",
            " 10  month      45211 non-null  object\n",
            " 11  duration   45211 non-null  int64 \n",
            " 12  campaign   45211 non-null  int64 \n",
            " 13  pdays      45211 non-null  int64 \n",
            " 14  previous   45211 non-null  int64 \n",
            " 15  poutcome   45211 non-null  object\n",
            " 16  y          45211 non-null  object\n",
            "dtypes: int64(7), object(10)\n",
            "memory usage: 5.9+ MB\n",
            "Column with datatypes objects Index(['job', 'marital', 'education', 'default', 'housing', 'loan', 'contact',\n",
            "       'month', 'poutcome', 'y'],\n",
            "      dtype='object')\n"
          ]
        }
      ]
    },
    {
      "cell_type": "code",
      "source": [
        "#unique values of those columns.\n",
        "unique_values = {col: df[col].unique() for col in object_col}\n",
        "print(unique_values)"
      ],
      "metadata": {
        "colab": {
          "base_uri": "https://localhost:8080/"
        },
        "id": "pjqNT2SNy6RM",
        "outputId": "f28892cf-1f04-44dd-d000-5ed908e35a8c"
      },
      "execution_count": null,
      "outputs": [
        {
          "output_type": "stream",
          "name": "stdout",
          "text": [
            "{'job': array(['management', 'technician', 'entrepreneur', 'blue-collar',\n",
            "       'unknown', 'retired', 'admin.', 'services', 'self-employed',\n",
            "       'unemployed', 'housemaid', 'student'], dtype=object), 'marital': array(['married', 'single', 'divorced'], dtype=object), 'education': array(['tertiary', 'secondary', 'unknown', 'primary'], dtype=object), 'default': array(['no', 'yes'], dtype=object), 'housing': array(['yes', 'no'], dtype=object), 'loan': array(['no', 'yes'], dtype=object), 'contact': array(['unknown', 'cellular', 'telephone'], dtype=object), 'month': array(['may', 'jun', 'jul', 'aug', 'oct', 'nov', 'dec', 'jan', 'feb',\n",
            "       'mar', 'apr', 'sep'], dtype=object), 'poutcome': array(['unknown', 'failure', 'other', 'success'], dtype=object), 'y': array(['no', 'yes'], dtype=object)}\n"
          ]
        }
      ]
    },
    {
      "cell_type": "code",
      "source": [
        "#check for the total number of null values in each column.\n",
        "null_values = df.isnull().sum()\n",
        "print(null_values)"
      ],
      "metadata": {
        "colab": {
          "base_uri": "https://localhost:8080/"
        },
        "id": "LA1_AEyVzM9_",
        "outputId": "1e31a829-9932-43db-f21e-2e8f656f9454"
      },
      "execution_count": null,
      "outputs": [
        {
          "output_type": "stream",
          "name": "stdout",
          "text": [
            "age          0\n",
            "job          0\n",
            "marital      0\n",
            "education    0\n",
            "default      0\n",
            "balance      0\n",
            "housing      0\n",
            "loan         0\n",
            "contact      0\n",
            "day          0\n",
            "month        0\n",
            "duration     0\n",
            "campaign     0\n",
            "pdays        0\n",
            "previous     0\n",
            "poutcome     0\n",
            "y            0\n",
            "dtype: int64\n"
          ]
        }
      ]
    },
    {
      "cell_type": "code",
      "source": [
        "#Drop all the columns with dtypes object and store in new DataFrame, also write the DataFrame in”.csv” with name ”banknumericdata.csv”\n",
        "df_numeric = df.select_dtypes(exclude=['object'])\n",
        "df_numeric.to_csv('banknumericdata.csv',index=False)"
      ],
      "metadata": {
        "id": "r0twgwXCzwph"
      },
      "execution_count": null,
      "outputs": []
    },
    {
      "cell_type": "code",
      "source": [
        "#Check for any duplicate values present in Dataset and do necessary to manage the duplicate items.{Hint: dataset.duplicated.sum()}\n",
        "num_duplicate = df.duplicated().sum()\n",
        "print(\"Number of duplicates:\",num_duplicate)\n",
        "\n",
        "if(num_duplicate > 0):\n",
        "  df = df.drop_duplicates()\n",
        "  print(\"Duplicate values removed\")\n",
        "else:\n",
        "  print(\"No duplicates found\")"
      ],
      "metadata": {
        "colab": {
          "base_uri": "https://localhost:8080/"
        },
        "id": "1r8xZe1w0VVl",
        "outputId": "a6b0c225-22c9-43b4-e42c-3b92eaf1b6b7"
      },
      "execution_count": null,
      "outputs": [
        {
          "output_type": "stream",
          "name": "stdout",
          "text": [
            "Number of duplicates: 0\n",
            "No duplicates found\n"
          ]
        }
      ]
    },
    {
      "cell_type": "markdown",
      "source": [
        "Exercises - Data Cleaning and Transformations with ”Titanic Dataset”:"
      ],
      "metadata": {
        "id": "b-y38TB71VLC"
      }
    },
    {
      "cell_type": "code",
      "source": [
        "import pandas as pd\n",
        "titanic_df = pd.read_csv('/content/drive/MyDrive/Concept of AI -- week 2/Copy of Titanic-Dataset.csv')\n",
        "#Create a DataFrame that is subsetted for the columns ’Name’, ’Pclass’, ’Sex’, ’Age’, ’Fare’, and ’Survived’.\n",
        "df_subset = titanic_df[['Name','Pclass','Sex','Age','Fare','Survived']]\n",
        "#Retain only those rows where ’Pclass’ is equal to 1, representing first-class passengers.\n",
        "first_class_df = df_subset[df_subset['Pclass'] == 1]\n",
        "print(first_class_df)\n",
        "#What is the mean,median, maximum value, and minimum value of the ’Fare’ column?\n",
        "fare_mean = first_class_df['Fare'].mean()\n",
        "fare_median = first_class_df['Fare'].median()\n",
        "fare_max = first_class_df['Fare'].max()\n",
        "fare_min = first_class_df['Fare'].min()\n",
        "print(\"Mean:\",fare_mean)\n",
        "print(\"Median:\",fare_median)\n",
        "print(\"Max:\",fare_max)\n",
        "print(\"Min:\",fare_min)\n"
      ],
      "metadata": {
        "colab": {
          "base_uri": "https://localhost:8080/"
        },
        "id": "_hFt3fs51Ngl",
        "outputId": "084bf0ab-fa55-4463-d0af-49655df1a6e6"
      },
      "execution_count": null,
      "outputs": [
        {
          "output_type": "stream",
          "name": "stdout",
          "text": [
            "                                                  Name  Pclass     Sex   Age  \\\n",
            "1    Cumings, Mrs. John Bradley (Florence Briggs Th...       1  female  38.0   \n",
            "3         Futrelle, Mrs. Jacques Heath (Lily May Peel)       1  female  35.0   \n",
            "6                              McCarthy, Mr. Timothy J       1    male  54.0   \n",
            "11                            Bonnell, Miss. Elizabeth       1  female  58.0   \n",
            "23                        Sloper, Mr. William Thompson       1    male  28.0   \n",
            "..                                                 ...     ...     ...   ...   \n",
            "871   Beckwith, Mrs. Richard Leonard (Sallie Monypeny)       1  female  47.0   \n",
            "872                           Carlsson, Mr. Frans Olof       1    male  33.0   \n",
            "879      Potter, Mrs. Thomas Jr (Lily Alexenia Wilson)       1  female  56.0   \n",
            "887                       Graham, Miss. Margaret Edith       1  female  19.0   \n",
            "889                              Behr, Mr. Karl Howell       1    male  26.0   \n",
            "\n",
            "        Fare  Survived  \n",
            "1    71.2833         1  \n",
            "3    53.1000         1  \n",
            "6    51.8625         0  \n",
            "11   26.5500         1  \n",
            "23   35.5000         1  \n",
            "..       ...       ...  \n",
            "871  52.5542         1  \n",
            "872   5.0000         0  \n",
            "879  83.1583         1  \n",
            "887  30.0000         1  \n",
            "889  30.0000         1  \n",
            "\n",
            "[216 rows x 6 columns]\n",
            "Mean: 84.1546875\n",
            "Median: 60.287499999999994\n",
            "Max: 512.3292\n",
            "Min: 0.0\n"
          ]
        }
      ]
    },
    {
      "cell_type": "code",
      "source": [
        "#How many null values are contained in the ’Age’ column in your subsetted DataFrame? Once you’ve foundthis out, drop them from your DataFrame.\n",
        "null_age_count = first_class_df['Age'].isnull().sum()\n",
        "print(\"Null values in Age column:\",null_age_count)\n",
        "first_class_df_cleaned = first_class_df.dropna(subset=['Age'])\n",
        "print(first_class_df)"
      ],
      "metadata": {
        "colab": {
          "base_uri": "https://localhost:8080/"
        },
        "id": "kjkIxUgh2tff",
        "outputId": "95f95d10-5b90-40e2-9900-576d7d74d460"
      },
      "execution_count": null,
      "outputs": [
        {
          "output_type": "stream",
          "name": "stdout",
          "text": [
            "Null values in Age column: 30\n",
            "                                                  Name  Pclass     Sex   Age  \\\n",
            "1    Cumings, Mrs. John Bradley (Florence Briggs Th...       1  female  38.0   \n",
            "3         Futrelle, Mrs. Jacques Heath (Lily May Peel)       1  female  35.0   \n",
            "6                              McCarthy, Mr. Timothy J       1    male  54.0   \n",
            "11                            Bonnell, Miss. Elizabeth       1  female  58.0   \n",
            "23                        Sloper, Mr. William Thompson       1    male  28.0   \n",
            "..                                                 ...     ...     ...   ...   \n",
            "871   Beckwith, Mrs. Richard Leonard (Sallie Monypeny)       1  female  47.0   \n",
            "872                           Carlsson, Mr. Frans Olof       1    male  33.0   \n",
            "879      Potter, Mrs. Thomas Jr (Lily Alexenia Wilson)       1  female  56.0   \n",
            "887                       Graham, Miss. Margaret Edith       1  female  19.0   \n",
            "889                              Behr, Mr. Karl Howell       1    male  26.0   \n",
            "\n",
            "        Fare  Survived  \n",
            "1    71.2833         1  \n",
            "3    53.1000         1  \n",
            "6    51.8625         0  \n",
            "11   26.5500         1  \n",
            "23   35.5000         1  \n",
            "..       ...       ...  \n",
            "871  52.5542         1  \n",
            "872   5.0000         0  \n",
            "879  83.1583         1  \n",
            "887  30.0000         1  \n",
            "889  30.0000         1  \n",
            "\n",
            "[216 rows x 6 columns]\n"
          ]
        }
      ]
    },
    {
      "cell_type": "code",
      "source": [
        "#Use one-hot encoding to convert the ’Embarked’ column into separate binary columns (’Embarked C’,’Embarked Q’, ’Embarked S’).\n",
        "titanic_df = pd.read_csv('/content/drive/MyDrive/Concept of AI -- week 2/Copy of Titanic-Dataset.csv')\n",
        "embarked_dummies = pd.get_dummies(titanic_df['Embarked'], prefix='Embarked')\n",
        "titanic_df = pd.concat([titanic_df,embarked_dummies], axis=1)\n",
        "titanic_df = titanic_df.drop('Embarked', axis=1)\n",
        "print(titanic_df.head())"
      ],
      "metadata": {
        "colab": {
          "base_uri": "https://localhost:8080/"
        },
        "id": "c9b7IDGA3mJR",
        "outputId": "d52a1a39-4c92-4660-9562-6adeb274e81b"
      },
      "execution_count": null,
      "outputs": [
        {
          "output_type": "stream",
          "name": "stdout",
          "text": [
            "   PassengerId  Survived  Pclass  \\\n",
            "0            1         0       3   \n",
            "1            2         1       1   \n",
            "2            3         1       3   \n",
            "3            4         1       1   \n",
            "4            5         0       3   \n",
            "\n",
            "                                                Name     Sex   Age  SibSp  \\\n",
            "0                            Braund, Mr. Owen Harris    male  22.0      1   \n",
            "1  Cumings, Mrs. John Bradley (Florence Briggs Th...  female  38.0      1   \n",
            "2                             Heikkinen, Miss. Laina  female  26.0      0   \n",
            "3       Futrelle, Mrs. Jacques Heath (Lily May Peel)  female  35.0      1   \n",
            "4                           Allen, Mr. William Henry    male  35.0      0   \n",
            "\n",
            "   Parch            Ticket     Fare Cabin  Embarked_C  Embarked_Q  Embarked_S  \n",
            "0      0         A/5 21171   7.2500   NaN       False       False        True  \n",
            "1      0          PC 17599  71.2833   C85        True       False       False  \n",
            "2      0  STON/O2. 3101282   7.9250   NaN       False       False        True  \n",
            "3      0            113803  53.1000  C123       False       False        True  \n",
            "4      0            373450   8.0500   NaN       False       False        True  \n"
          ]
        }
      ]
    },
    {
      "cell_type": "code",
      "source": [
        "#Compare the mean survival rates (’Survived’) for the different groups in the ’Sex’ column. Draw a visual-ization to show how the survival distributions vary by gender.\n",
        "import pandas as pd\n",
        "import matplotlib.pyplot as plt\n",
        "\n",
        "titanic_df = pd.read_csv('/content/drive/MyDrive/Concept of AI -- week 2/Copy of Titanic-Dataset.csv')\n",
        "\n",
        "mean_survival_rate = titanic_df.groupby('Sex')['Survived'].mean()\n",
        "print(\"Mean survival rate by gender:\")\n",
        "print(mean_survival_rate)\n",
        "\n",
        "plt.bar(mean_survival_rate.index, mean_survival_rate.values)\n",
        "plt.xlabel('Sex')\n",
        "plt.ylabel('Mean Survival Rate')\n",
        "plt.title('Mean survival rate by gender')\n",
        "plt.show()"
      ],
      "metadata": {
        "id": "hTUFb8ES4jc-",
        "colab": {
          "base_uri": "https://localhost:8080/",
          "height": 559
        },
        "outputId": "2d6b4d38-6347-4075-f5c0-76aa18f778fc"
      },
      "execution_count": null,
      "outputs": [
        {
          "output_type": "stream",
          "name": "stdout",
          "text": [
            "Mean survival rate by gender:\n",
            "Sex\n",
            "female    0.742038\n",
            "male      0.188908\n",
            "Name: Survived, dtype: float64\n"
          ]
        },
        {
          "output_type": "display_data",
          "data": {
            "text/plain": [
              "<Figure size 640x480 with 1 Axes>"
            ],
            "image/png": "[encoded data removed]"
          },
          "metadata": {}
        }
      ]
    },
    {
      "cell_type": "code",
      "source": [
        "#Draw a visualization that breaks your visualization from Exercise 3 down by the port of embarkation (’Em-barked’). In this instance, compare the ports ’C’ (Cherbourg), ’Q’ (Queenstown), and ’S’ (Southampton).\n",
        "import pandas as pd\n",
        "import matplotlib.pyplot as plt\n",
        "\n",
        "titanic_df = pd.read_csv('/content/drive/MyDrive/Concept of AI -- week 2/Copy of Titanic-Dataset.csv')\n",
        "\n",
        "titanic_df['Embarked'] = titanic_df['Embarked'].fillna('S')\n",
        "\n",
        "mean_survival_rate = titanic_df.groupby(['Embarked', 'Sex'])['Survived'].mean()\n",
        "\n",
        "\n",
        "ports = ['C', 'Q', 'S']\n",
        "genders = ['male', 'female']\n",
        "x = range(len(ports))\n",
        "width = 0.35\n",
        "\n",
        "\n",
        "fig, ax = plt.subplots(figsize=(12, 8))\n",
        "\n",
        "for i, gender in enumerate(genders):\n",
        "    ax.bar(\n",
        "        [pos + i * width for pos in x],\n",
        "        [mean_survival_rate.get((port, gender), 0) for port in ports],\n",
        "        width=width,\n",
        "        label=gender\n",
        "    )\n",
        "\n",
        "# Customize plot\n",
        "ax.set_title(\"Mean Survival Rate by Gender and Port of Embarkation\", fontsize=14)\n",
        "ax.set_xlabel(\"Port of Embarkation\", fontsize=12)\n",
        "ax.set_ylabel(\"Mean Survival Rate\", fontsize=12)\n",
        "ax.set_xticks([pos + width / 2 for pos in x])\n",
        "ax.set_xticklabels(ports)\n",
        "ax.legend(title=\"Gender\")\n",
        "plt.ylim(0, 1)  # Survival rates range between 0 and 1\n",
        "plt.show()\n"
      ],
      "metadata": {
        "colab": {
          "base_uri": "https://localhost:8080/",
          "height": 723
        },
        "id": "4LZh7HZY9kBE",
        "outputId": "ccf5bbd3-9b27-4a83-d3f4-6665081ff0a5"
      },
      "execution_count": null,
      "outputs": [
        {
          "output_type": "display_data",
          "data": {
            "text/plain": [
              "<Figure size 1200x800 with 1 Axes>"
            ],
            "image/png": "[encoded data removed]"
          },
          "metadata": {}
        }
      ]
    },
    {
      "cell_type": "markdown",
      "source": [
        "Problem 2 - Data Imputations:\n",
        "\n",
        "\n",
        "Dataset for the Task: \"medical_student.csv\"\n",
        "\n"
      ],
      "metadata": {
        "id": "l8I-OTADK4JS"
      }
    },
    {
      "cell_type": "code",
      "source": [
        "#Load the provided dataset and import in pandas DataFrame\n",
        "import pandas as pd\n",
        "medical_student_df = pd.read_csv('/content/drive/MyDrive/Concept of AI -- week 2/Copy of medical_students_dataset.csv')\n",
        "print(medical_student_df.head())"
      ],
      "metadata": {
        "colab": {
          "base_uri": "https://localhost:8080/"
        },
        "id": "pofhNXv_Ajl0",
        "outputId": "92963f6b-e0ee-4bbb-da27-e3fe0bfc7f84"
      },
      "execution_count": null,
      "outputs": [
        {
          "output_type": "stream",
          "name": "stdout",
          "text": [
            "   Student ID   Age  Gender      Height     Weight Blood Type        BMI  \\\n",
            "0         1.0  18.0  Female  161.777924  72.354947          O  27.645835   \n",
            "1         2.0   NaN    Male  152.069157  47.630941          B        NaN   \n",
            "2         3.0  32.0  Female  182.537664  55.741083          A  16.729017   \n",
            "3         NaN  30.0    Male  182.112867  63.332207          B  19.096042   \n",
            "4         5.0  23.0  Female         NaN  46.234173          O        NaN   \n",
            "\n",
            "   Temperature  Heart Rate  Blood Pressure  Cholesterol Diabetes Smoking  \n",
            "0          NaN        95.0           109.0        203.0       No     NaN  \n",
            "1    98.714977        93.0           104.0        163.0       No      No  \n",
            "2    98.260293        76.0           130.0        216.0      Yes      No  \n",
            "3    98.839605        99.0           112.0        141.0       No     Yes  \n",
            "4    98.480008        95.0             NaN        231.0       No      No  \n"
          ]
        }
      ]
    },
    {
      "cell_type": "code",
      "source": [
        "#Check info of the DataFrame and identify column with missing (null) values\n",
        "print(medical_student_df.info())\n",
        "\n",
        "print(medical_student_df.isnull().sum())"
      ],
      "metadata": {
        "colab": {
          "base_uri": "https://localhost:8080/"
        },
        "id": "BZDRQ7ryLObk",
        "outputId": "4391e4d3-3f56-45bc-df6c-0e5653cfbc95"
      },
      "execution_count": null,
      "outputs": [
        {
          "output_type": "stream",
          "name": "stdout",
          "text": [
            "<class 'pandas.core.frame.DataFrame'>\n",
            "RangeIndex: 200000 entries, 0 to 199999\n",
            "Data columns (total 13 columns):\n",
            " #   Column          Non-Null Count   Dtype  \n",
            "---  ------          --------------   -----  \n",
            " 0   Student ID      180000 non-null  float64\n",
            " 1   Age             180000 non-null  float64\n",
            " 2   Gender          180000 non-null  object \n",
            " 3   Height          180000 non-null  float64\n",
            " 4   Weight          180000 non-null  float64\n",
            " 5   Blood Type      180000 non-null  object \n",
            " 6   BMI             180000 non-null  float64\n",
            " 7   Temperature     180000 non-null  float64\n",
            " 8   Heart Rate      180000 non-null  float64\n",
            " 9   Blood Pressure  180000 non-null  float64\n",
            " 10  Cholesterol     180000 non-null  float64\n",
            " 11  Diabetes        180000 non-null  object \n",
            " 12  Smoking         180000 non-null  object \n",
            "dtypes: float64(9), object(4)\n",
            "memory usage: 19.8+ MB\n",
            "None\n",
            "Student ID        20000\n",
            "Age               20000\n",
            "Gender            20000\n",
            "Height            20000\n",
            "Weight            20000\n",
            "Blood Type        20000\n",
            "BMI               20000\n",
            "Temperature       20000\n",
            "Heart Rate        20000\n",
            "Blood Pressure    20000\n",
            "Cholesterol       20000\n",
            "Diabetes          20000\n",
            "Smoking           20000\n",
            "dtype: int64\n"
          ]
        }
      ]
    },
    {
      "cell_type": "code",
      "source": [
        "#For the column with missing values fill the values using various techniques we discussed above. Try to explain why did you select the particular methods for particular column.\n",
        "# Example imputation\n",
        "for column in medical_student_df.columns:\n",
        "    if medical_student_df[column].isnull().sum() > 0:\n",
        "        if medical_student_df[column].dtype == \"float64\" or medical_student_df[column].dtype == \"int64\":\n",
        "            # Numerical column: fill missing values with the median (preferred for skewed distributions)\n",
        "            medical_student_df[column].fillna(medical_student_df[column].median(), inplace=True)\n",
        "        else:\n",
        "            # Categorical column: fill missing values with mode\n",
        "            medical_student_df[column].fillna(medical_student_df[column].mode()[0], inplace=True)\n"
      ],
      "metadata": {
        "colab": {
          "base_uri": "https://localhost:8080/"
        },
        "id": "rjye20XILnjc",
        "outputId": "c00f2873-5ef7-4110-ea0d-544b84c57fc2"
      },
      "execution_count": null,
      "outputs": [
        {
          "output_type": "stream",
          "name": "stderr",
          "text": [
            "<ipython-input-12-23348de8b48e>:7: FutureWarning: A value is trying to be set on a copy of a DataFrame or Series through chained assignment using an inplace method.\n",
            "The behavior will change in pandas 3.0. This inplace method will never work because the intermediate object on which we are setting values always behaves as a copy.\n",
            "\n",
            "For example, when doing 'df[col].method(value, inplace=True)', try using 'df.method({col: value}, inplace=True)' or df[col] = df[col].method(value) instead, to perform the operation inplace on the original object.\n",
            "\n",
            "\n",
            "  medical_student_df[column].fillna(medical_student_df[column].median(), inplace=True)\n",
            "<ipython-input-12-23348de8b48e>:10: FutureWarning: A value is trying to be set on a copy of a DataFrame or Series through chained assignment using an inplace method.\n",
            "The behavior will change in pandas 3.0. This inplace method will never work because the intermediate object on which we are setting values always behaves as a copy.\n",
            "\n",
            "For example, when doing 'df[col].method(value, inplace=True)', try using 'df.method({col: value}, inplace=True)' or df[col] = df[col].method(value) instead, to perform the operation inplace on the original object.\n",
            "\n",
            "\n",
            "  medical_student_df[column].fillna(medical_student_df[column].mode()[0], inplace=True)\n"
          ]
        }
      ]
    },
    {
      "cell_type": "code",
      "source": [
        "#Check for any duplicate values present in Dataset and do necessary to manage the duplicate items.{Hint: dataset.duplicated.sum()}\n",
        "\n",
        "# Count duplicate rows\n",
        "num_duplicates = medical_student_df.duplicated().sum()\n",
        "print(f\"Number of duplicate rows: {num_duplicates}\")\n",
        "\n",
        "# Drop duplicate rows if any\n",
        "if num_duplicates > 0:\n",
        "    medical_student_df = medical_student_df.drop_duplicates()\n",
        "    print(\"Duplicates removed.\")\n"
      ],
      "metadata": {
        "colab": {
          "base_uri": "https://localhost:8080/"
        },
        "id": "Fsx64XIaL885",
        "outputId": "1d750f7f-40de-43ab-90a6-1a62529f6a07"
      },
      "execution_count": null,
      "outputs": [
        {
          "output_type": "stream",
          "name": "stdout",
          "text": [
            "Number of duplicate rows: 12879\n",
            "Duplicates removed.\n"
          ]
        }
      ]
    },
    {
      "cell_type": "code",
      "source": [],
      "metadata": {
        "id": "kfR7R9RsMFki"
      },
      "execution_count": null,
      "outputs": []
    }
  ]
}