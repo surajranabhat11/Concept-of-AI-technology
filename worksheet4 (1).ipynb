{
  "nbformat": 4,
  "nbformat_minor": 0,
  "metadata": {
    "colab": {
      "provenance": []
    },
    "kernelspec": {
      "name": "python3",
      "display_name": "Python 3"
    },
    "language_info": {
      "name": "python"
    }
  },
  "cells": [
    {
      "cell_type": "code",
      "execution_count": null,
      "metadata": {
        "id": "pGsMGBBOlIZi"
      },
      "outputs": [],
      "source": [
        "import pandas as pd\n",
        "import numpy as np\n",
        "from collections import Counter"
      ]
    },
    {
      "cell_type": "code",
      "source": [
        "data = pd.read_csv('/content/drive/MyDrive/Concept of AI -- week4/Copy of diabetes.csv')\n",
        "data.head()"
      ],
      "metadata": {
        "colab": {
          "base_uri": "https://localhost:8080/",
          "height": 206
        },
        "id": "MTLS9xnGxMyI",
        "outputId": "db4d023a-883d-4cc4-be1e-5c20e3f39c77"
      },
      "execution_count": null,
      "outputs": [
        {
          "output_type": "execute_result",
          "data": {
            "text/plain": [
              "   Pregnancies  Glucose  BloodPressure  SkinThickness  Insulin   BMI  \\\n",
              "0            6      148             72             35        0  33.6   \n",
              "1            1       85             66             29        0  26.6   \n",
              "2            8      183             64              0        0  23.3   \n",
              "3            1       89             66             23       94  28.1   \n",
              "4            0      137             40             35      168  43.1   \n",
              "\n",
              "   DiabetesPedigreeFunction  Age  Outcome  \n",
              "0                     0.627   50        1  \n",
              "1                     0.351   31        0  \n",
              "2                     0.672   32        1  \n",
              "3                     0.167   21        0  \n",
              "4                     2.288   33        1  "
            ],
            "text/html": [
              "\n",
              "  <div id=\"df-212b556a-65fd-407f-99e5-31f479f35fc9\" class=\"colab-df-container\">\n",
              "    <div>\n",
              "<style scoped>\n",
              "    .dataframe tbody tr th:only-of-type {\n",
              "        vertical-align: middle;\n",
              "    }\n",
              "\n",
              "    .dataframe tbody tr th {\n",
              "        vertical-align: top;\n",
              "    }\n",
              "\n",
              "    .dataframe thead th {\n",
              "        text-align: right;\n",
              "    }\n",
              "</style>\n",
              "<table border=\"1\" class=\"dataframe\">\n",
              "  <thead>\n",
              "    <tr style=\"text-align: right;\">\n",
              "      <th></th>\n",
              "      <th>Pregnancies</th>\n",
              "      <th>Glucose</th>\n",
              "      <th>BloodPressure</th>\n",
              "      <th>SkinThickness</th>\n",
              "      <th>Insulin</th>\n",
              "      <th>BMI</th>\n",
              "      <th>DiabetesPedigreeFunction</th>\n",
              "      <th>Age</th>\n",
              "      <th>Outcome</th>\n",
              "    </tr>\n",
              "  </thead>\n",
              "  <tbody>\n",
              "    <tr>\n",
              "      <th>0</th>\n",
              "      <td>6</td>\n",
              "      <td>148</td>\n",
              "      <td>72</td>\n",
              "      <td>35</td>\n",
              "      <td>0</td>\n",
              "      <td>33.6</td>\n",
              "      <td>0.627</td>\n",
              "      <td>50</td>\n",
              "      <td>1</td>\n",
              "    </tr>\n",
              "    <tr>\n",
              "      <th>1</th>\n",
              "      <td>1</td>\n",
              "      <td>85</td>\n",
              "      <td>66</td>\n",
              "      <td>29</td>\n",
              "      <td>0</td>\n",
              "      <td>26.6</td>\n",
              "      <td>0.351</td>\n",
              "      <td>31</td>\n",
              "      <td>0</td>\n",
              "    </tr>\n",
              "    <tr>\n",
              "      <th>2</th>\n",
              "      <td>8</td>\n",
              "      <td>183</td>\n",
              "      <td>64</td>\n",
              "      <td>0</td>\n",
              "      <td>0</td>\n",
              "      <td>23.3</td>\n",
              "      <td>0.672</td>\n",
              "      <td>32</td>\n",
              "      <td>1</td>\n",
              "    </tr>\n",
              "    <tr>\n",
              "      <th>3</th>\n",
              "      <td>1</td>\n",
              "      <td>89</td>\n",
              "      <td>66</td>\n",
              "      <td>23</td>\n",
              "      <td>94</td>\n",
              "      <td>28.1</td>\n",
              "      <td>0.167</td>\n",
              "      <td>21</td>\n",
              "      <td>0</td>\n",
              "    </tr>\n",
              "    <tr>\n",
              "      <th>4</th>\n",
              "      <td>0</td>\n",
              "      <td>137</td>\n",
              "      <td>40</td>\n",
              "      <td>35</td>\n",
              "      <td>168</td>\n",
              "      <td>43.1</td>\n",
              "      <td>2.288</td>\n",
              "      <td>33</td>\n",
              "      <td>1</td>\n",
              "    </tr>\n",
              "  </tbody>\n",
              "</table>\n",
              "</div>\n",
              "    <div class=\"colab-df-buttons\">\n",
              "\n",
              "  <div class=\"colab-df-container\">\n",
              "    <button class=\"colab-df-convert\" onclick=\"convertToInteractive('df-212b556a-65fd-407f-99e5-31f479f35fc9')\"\n",
              "            title=\"Convert this dataframe to an interactive table.\"\n",
              "            style=\"display:none;\">\n",
              "\n",
              "  <svg xmlns=\"http://www.w3.org/2000/svg\" height=\"24px\" viewBox=\"0 -960 960 960\">\n",
              "    <path d=\"M120-120v-720h720v720H120Zm60-500h600v-160H180v160Zm220 220h160v-160H400v160Zm0 220h160v-160H400v160ZM180-400h160v-160H180v160Zm440 0h160v-160H620v160ZM180-180h160v-160H180v160Zm440 0h160v-160H620v160Z\"/>\n",
              "  </svg>\n",
              "    </button>\n",
              "\n",
              "  <style>\n",
              "    .colab-df-container {\n",
              "      display:flex;\n",
              "      gap: 12px;\n",
              "    }\n",
              "\n",
              "    .colab-df-convert {\n",
              "      background-color: #E8F0FE;\n",
              "      border: none;\n",
              "      border-radius: 50%;\n",
              "      cursor: pointer;\n",
              "      display: none;\n",
              "      fill: #1967D2;\n",
              "      height: 32px;\n",
              "      padding: 0 0 0 0;\n",
              "      width: 32px;\n",
              "    }\n",
              "\n",
              "    .colab-df-convert:hover {\n",
              "      background-color: #E2EBFA;\n",
              "      box-shadow: 0px 1px 2px rgba(60, 64, 67, 0.3), 0px 1px 3px 1px rgba(60, 64, 67, 0.15);\n",
              "      fill: #174EA6;\n",
              "    }\n",
              "\n",
              "    .colab-df-buttons div {\n",
              "      margin-bottom: 4px;\n",
              "    }\n",
              "\n",
              "    [theme=dark] .colab-df-convert {\n",
              "      background-color: #3B4455;\n",
              "      fill: #D2E3FC;\n",
              "    }\n",
              "\n",
              "    [theme=dark] .colab-df-convert:hover {\n",
              "      background-color: #434B5C;\n",
              "      box-shadow: 0px 1px 3px 1px rgba(0, 0, 0, 0.15);\n",
              "      filter: drop-shadow(0px 1px 2px rgba(0, 0, 0, 0.3));\n",
              "      fill: #FFFFFF;\n",
              "    }\n",
              "  </style>\n",
              "\n",
              "    <script>\n",
              "      const buttonEl =\n",
              "        document.querySelector('#df-212b556a-65fd-407f-99e5-31f479f35fc9 button.colab-df-convert');\n",
              "      buttonEl.style.display =\n",
              "        google.colab.kernel.accessAllowed ? 'block' : 'none';\n",
              "\n",
              "      async function convertToInteractive(key) {\n",
              "        const element = document.querySelector('#df-212b556a-65fd-407f-99e5-31f479f35fc9');\n",
              "        const dataTable =\n",
              "          await google.colab.kernel.invokeFunction('convertToInteractive',\n",
              "                                                    [key], {});\n",
              "        if (!dataTable) return;\n",
              "\n",
              "        const docLinkHtml = 'Like what you see? Visit the ' +\n",
              "          '<a target=\"_blank\" href=https://colab.research.google.com/notebooks/data_table.ipynb>data table notebook</a>'\n",
              "          + ' to learn more about interactive tables.';\n",
              "        element.innerHTML = '';\n",
              "        dataTable['output_type'] = 'display_data';\n",
              "        await google.colab.output.renderOutput(dataTable, element);\n",
              "        const docLink = document.createElement('div');\n",
              "        docLink.innerHTML = docLinkHtml;\n",
              "        element.appendChild(docLink);\n",
              "      }\n",
              "    </script>\n",
              "  </div>\n",
              "\n",
              "\n",
              "<div id=\"df-294a49a9-8a21-45f7-98e3-01c854e8ab5a\">\n",
              "  <button class=\"colab-df-quickchart\" onclick=\"quickchart('df-294a49a9-8a21-45f7-98e3-01c854e8ab5a')\"\n",
              "            title=\"Suggest charts\"\n",
              "            style=\"display:none;\">\n",
              "\n",
              "<svg xmlns=\"http://www.w3.org/2000/svg\" height=\"24px\"viewBox=\"0 0 24 24\"\n",
              "     width=\"24px\">\n",
              "    <g>\n",
              "        <path d=\"M19 3H5c-1.1 0-2 .9-2 2v14c0 1.1.9 2 2 2h14c1.1 0 2-.9 2-2V5c0-1.1-.9-2-2-2zM9 17H7v-7h2v7zm4 0h-2V7h2v10zm4 0h-2v-4h2v4z\"/>\n",
              "    </g>\n",
              "</svg>\n",
              "  </button>\n",
              "\n",
              "<style>\n",
              "  .colab-df-quickchart {\n",
              "      --bg-color: #E8F0FE;\n",
              "      --fill-color: #1967D2;\n",
              "      --hover-bg-color: #E2EBFA;\n",
              "      --hover-fill-color: #174EA6;\n",
              "      --disabled-fill-color: #AAA;\n",
              "      --disabled-bg-color: #DDD;\n",
              "  }\n",
              "\n",
              "  [theme=dark] .colab-df-quickchart {\n",
              "      --bg-color: #3B4455;\n",
              "      --fill-color: #D2E3FC;\n",
              "      --hover-bg-color: #434B5C;\n",
              "      --hover-fill-color: #FFFFFF;\n",
              "      --disabled-bg-color: #3B4455;\n",
              "      --disabled-fill-color: #666;\n",
              "  }\n",
              "\n",
              "  .colab-df-quickchart {\n",
              "    background-color: var(--bg-color);\n",
              "    border: none;\n",
              "    border-radius: 50%;\n",
              "    cursor: pointer;\n",
              "    display: none;\n",
              "    fill: var(--fill-color);\n",
              "    height: 32px;\n",
              "    padding: 0;\n",
              "    width: 32px;\n",
              "  }\n",
              "\n",
              "  .colab-df-quickchart:hover {\n",
              "    background-color: var(--hover-bg-color);\n",
              "    box-shadow: 0 1px 2px rgba(60, 64, 67, 0.3), 0 1px 3px 1px rgba(60, 64, 67, 0.15);\n",
              "    fill: var(--button-hover-fill-color);\n",
              "  }\n",
              "\n",
              "  .colab-df-quickchart-complete:disabled,\n",
              "  .colab-df-quickchart-complete:disabled:hover {\n",
              "    background-color: var(--disabled-bg-color);\n",
              "    fill: var(--disabled-fill-color);\n",
              "    box-shadow: none;\n",
              "  }\n",
              "\n",
              "  .colab-df-spinner {\n",
              "    border: 2px solid var(--fill-color);\n",
              "    border-color: transparent;\n",
              "    border-bottom-color: var(--fill-color);\n",
              "    animation:\n",
              "      spin 1s steps(1) infinite;\n",
              "  }\n",
              "\n",
              "  @keyframes spin {\n",
              "    0% {\n",
              "      border-color: transparent;\n",
              "      border-bottom-color: var(--fill-color);\n",
              "      border-left-color: var(--fill-color);\n",
              "    }\n",
              "    20% {\n",
              "      border-color: transparent;\n",
              "      border-left-color: var(--fill-color);\n",
              "      border-top-color: var(--fill-color);\n",
              "    }\n",
              "    30% {\n",
              "      border-color: transparent;\n",
              "      border-left-color: var(--fill-color);\n",
              "      border-top-color: var(--fill-color);\n",
              "      border-right-color: var(--fill-color);\n",
              "    }\n",
              "    40% {\n",
              "      border-color: transparent;\n",
              "      border-right-color: var(--fill-color);\n",
              "      border-top-color: var(--fill-color);\n",
              "    }\n",
              "    60% {\n",
              "      border-color: transparent;\n",
              "      border-right-color: var(--fill-color);\n",
              "    }\n",
              "    80% {\n",
              "      border-color: transparent;\n",
              "      border-right-color: var(--fill-color);\n",
              "      border-bottom-color: var(--fill-color);\n",
              "    }\n",
              "    90% {\n",
              "      border-color: transparent;\n",
              "      border-bottom-color: var(--fill-color);\n",
              "    }\n",
              "  }\n",
              "</style>\n",
              "\n",
              "  <script>\n",
              "    async function quickchart(key) {\n",
              "      const quickchartButtonEl =\n",
              "        document.querySelector('#' + key + ' button');\n",
              "      quickchartButtonEl.disabled = true;  // To prevent multiple clicks.\n",
              "      quickchartButtonEl.classList.add('colab-df-spinner');\n",
              "      try {\n",
              "        const charts = await google.colab.kernel.invokeFunction(\n",
              "            'suggestCharts', [key], {});\n",
              "      } catch (error) {\n",
              "        console.error('Error during call to suggestCharts:', error);\n",
              "      }\n",
              "      quickchartButtonEl.classList.remove('colab-df-spinner');\n",
              "      quickchartButtonEl.classList.add('colab-df-quickchart-complete');\n",
              "    }\n",
              "    (() => {\n",
              "      let quickchartButtonEl =\n",
              "        document.querySelector('#df-294a49a9-8a21-45f7-98e3-01c854e8ab5a button');\n",
              "      quickchartButtonEl.style.display =\n",
              "        google.colab.kernel.accessAllowed ? 'block' : 'none';\n",
              "    })();\n",
              "  </script>\n",
              "</div>\n",
              "\n",
              "    </div>\n",
              "  </div>\n"
            ],
            "application/vnd.google.colaboratory.intrinsic+json": {
              "type": "dataframe",
              "variable_name": "data",
              "summary": "{\n  \"name\": \"data\",\n  \"rows\": 768,\n  \"fields\": [\n    {\n      \"column\": \"Pregnancies\",\n      \"properties\": {\n        \"dtype\": \"number\",\n        \"std\": 3,\n        \"min\": 0,\n        \"max\": 17,\n        \"num_unique_values\": 17,\n        \"samples\": [\n          6,\n          1,\n          3\n        ],\n        \"semantic_type\": \"\",\n        \"description\": \"\"\n      }\n    },\n    {\n      \"column\": \"Glucose\",\n      \"properties\": {\n        \"dtype\": \"number\",\n        \"std\": 31,\n        \"min\": 0,\n        \"max\": 199,\n        \"num_unique_values\": 136,\n        \"samples\": [\n          151,\n          101,\n          112\n        ],\n        \"semantic_type\": \"\",\n        \"description\": \"\"\n      }\n    },\n    {\n      \"column\": \"BloodPressure\",\n      \"properties\": {\n        \"dtype\": \"number\",\n        \"std\": 19,\n        \"min\": 0,\n        \"max\": 122,\n        \"num_unique_values\": 47,\n        \"samples\": [\n          86,\n          46,\n          85\n        ],\n        \"semantic_type\": \"\",\n        \"description\": \"\"\n      }\n    },\n    {\n      \"column\": \"SkinThickness\",\n      \"properties\": {\n        \"dtype\": \"number\",\n        \"std\": 15,\n        \"min\": 0,\n        \"max\": 99,\n        \"num_unique_values\": 51,\n        \"samples\": [\n          7,\n          12,\n          48\n        ],\n        \"semantic_type\": \"\",\n        \"description\": \"\"\n      }\n    },\n    {\n      \"column\": \"Insulin\",\n      \"properties\": {\n        \"dtype\": \"number\",\n        \"std\": 115,\n        \"min\": 0,\n        \"max\": 846,\n        \"num_unique_values\": 186,\n        \"samples\": [\n          52,\n          41,\n          183\n        ],\n        \"semantic_type\": \"\",\n        \"description\": \"\"\n      }\n    },\n    {\n      \"column\": \"BMI\",\n      \"properties\": {\n        \"dtype\": \"number\",\n        \"std\": 7.8841603203754405,\n        \"min\": 0.0,\n        \"max\": 67.1,\n        \"num_unique_values\": 248,\n        \"samples\": [\n          19.9,\n          31.0,\n          38.1\n        ],\n        \"semantic_type\": \"\",\n        \"description\": \"\"\n      }\n    },\n    {\n      \"column\": \"DiabetesPedigreeFunction\",\n      \"properties\": {\n        \"dtype\": \"number\",\n        \"std\": 0.33132859501277484,\n        \"min\": 0.078,\n        \"max\": 2.42,\n        \"num_unique_values\": 517,\n        \"samples\": [\n          1.731,\n          0.426,\n          0.138\n        ],\n        \"semantic_type\": \"\",\n        \"description\": \"\"\n      }\n    },\n    {\n      \"column\": \"Age\",\n      \"properties\": {\n        \"dtype\": \"number\",\n        \"std\": 11,\n        \"min\": 21,\n        \"max\": 81,\n        \"num_unique_values\": 52,\n        \"samples\": [\n          60,\n          47,\n          72\n        ],\n        \"semantic_type\": \"\",\n        \"description\": \"\"\n      }\n    },\n    {\n      \"column\": \"Outcome\",\n      \"properties\": {\n        \"dtype\": \"number\",\n        \"std\": 0,\n        \"min\": 0,\n        \"max\": 1,\n        \"num_unique_values\": 2,\n        \"samples\": [\n          0,\n          1\n        ],\n        \"semantic_type\": \"\",\n        \"description\": \"\"\n      }\n    }\n  ]\n}"
            }
          },
          "metadata": {},
          "execution_count": 2
        }
      ]
    },
    {
      "cell_type": "code",
      "source": [
        "print(\"\\nData Types:\")\n",
        "print(data.dtypes)"
      ],
      "metadata": {
        "colab": {
          "base_uri": "https://localhost:8080/"
        },
        "id": "bS6k9EnSx2en",
        "outputId": "454d4e73-b593-491a-b374-bfa111026f06"
      },
      "execution_count": null,
      "outputs": [
        {
          "output_type": "stream",
          "name": "stdout",
          "text": [
            "\n",
            "Data Types:\n",
            "Pregnancies                   int64\n",
            "Glucose                       int64\n",
            "BloodPressure                 int64\n",
            "SkinThickness                 int64\n",
            "Insulin                       int64\n",
            "BMI                         float64\n",
            "DiabetesPedigreeFunction    float64\n",
            "Age                           int64\n",
            "Outcome                       int64\n",
            "dtype: object\n"
          ]
        }
      ]
    },
    {
      "cell_type": "code",
      "source": [
        "# Check for missing values in each column.\n",
        "missing_values = data.isnull().sum()\n",
        "print(\"\\n Missing values in each column:\")\n",
        "print(missing_values)"
      ],
      "metadata": {
        "colab": {
          "base_uri": "https://localhost:8080/"
        },
        "id": "biaiwUfDyM3T",
        "outputId": "35a77557-a34d-4eb7-fa35-7b7b56490cce"
      },
      "execution_count": null,
      "outputs": [
        {
          "output_type": "stream",
          "name": "stdout",
          "text": [
            "\n",
            " Missing values in each column:\n",
            "Pregnancies                 0\n",
            "Glucose                     0\n",
            "BloodPressure               0\n",
            "SkinThickness               0\n",
            "Insulin                     0\n",
            "BMI                         0\n",
            "DiabetesPedigreeFunction    0\n",
            "Age                         0\n",
            "Outcome                     0\n",
            "dtype: int64\n"
          ]
        }
      ]
    },
    {
      "cell_type": "code",
      "source": [
        "# Summary statistics for numerical columns.\n",
        "print(\"\\nSummary statistic for numerical columns:\")\n",
        "print(data.describe())"
      ],
      "metadata": {
        "colab": {
          "base_uri": "https://localhost:8080/"
        },
        "id": "OuDw-8rByoos",
        "outputId": "14e53f6d-b42c-490e-cabc-3079bba15ef0"
      },
      "execution_count": null,
      "outputs": [
        {
          "output_type": "stream",
          "name": "stdout",
          "text": [
            "\n",
            "Summary statistic for numerical columns:\n",
            "       Pregnancies     Glucose  BloodPressure  SkinThickness     Insulin  \\\n",
            "count   768.000000  768.000000     768.000000     768.000000  768.000000   \n",
            "mean      3.845052  120.894531      69.105469      20.536458   79.799479   \n",
            "std       3.369578   31.972618      19.355807      15.952218  115.244002   \n",
            "min       0.000000    0.000000       0.000000       0.000000    0.000000   \n",
            "25%       1.000000   99.000000      62.000000       0.000000    0.000000   \n",
            "50%       3.000000  117.000000      72.000000      23.000000   30.500000   \n",
            "75%       6.000000  140.250000      80.000000      32.000000  127.250000   \n",
            "max      17.000000  199.000000     122.000000      99.000000  846.000000   \n",
            "\n",
            "              BMI  DiabetesPedigreeFunction         Age     Outcome  \n",
            "count  768.000000                768.000000  768.000000  768.000000  \n",
            "mean    31.992578                  0.471876   33.240885    0.348958  \n",
            "std      7.884160                  0.331329   11.760232    0.476951  \n",
            "min      0.000000                  0.078000   21.000000    0.000000  \n",
            "25%     27.300000                  0.243750   24.000000    0.000000  \n",
            "50%     32.000000                  0.372500   29.000000    0.000000  \n",
            "75%     36.600000                  0.626250   41.000000    1.000000  \n",
            "max     67.100000                  2.420000   81.000000    1.000000  \n"
          ]
        }
      ]
    },
    {
      "cell_type": "code",
      "source": [
        "from sklearn.model_selection import train_test_split\n",
        "\n",
        "x = data.drop(columns=['Outcome'])\n",
        "y = data['Outcome']\n",
        "\n",
        "x_train, x_test, y_train, y_test = train_test_split(x,y,test_size=0.3, random_state=42)\n",
        "\n",
        "print(x_train.shape, x_test.shape, y_train.shape, y_test.shape)"
      ],
      "metadata": {
        "id": "AFP2uWM8y0dv",
        "colab": {
          "base_uri": "https://localhost:8080/"
        },
        "outputId": "0dd3f4b2-71ce-4c3f-b160-8e00022014e8"
      },
      "execution_count": null,
      "outputs": [
        {
          "output_type": "stream",
          "name": "stdout",
          "text": [
            "(537, 8) (231, 8) (537,) (231,)\n"
          ]
        }
      ]
    },
    {
      "cell_type": "code",
      "source": [
        "def euclidean_distance(x1, x2):\n",
        "  return np.sqrt(np.sum((x1-x2)**2))\n",
        "\n",
        "def predict_single(x_train, y_train, query, k=3):\n",
        "  distances =[]\n",
        "\n",
        "  for i in range(len(x_train)):\n",
        "    dist = euclidean_distance(x_train[i], query)\n",
        "    distances.append((dist, i))\n",
        "\n",
        "  distances.sort(key=lambda x:x[0])\n",
        "\n",
        "  k_nearest_indices = [distances[i][1] for i in range(k)]\n",
        "\n",
        "  k_nearest_labels = [y_train.iloc[i] for i in k_nearest_indices]\n",
        "\n",
        "  most_common = Counter(k_nearest_labels).most_common(1)\n",
        "  return most_common[0][0]\n",
        "\n",
        "def predict_all(x_train, y_train, x_test, k=3):\n",
        "  predictions = []\n",
        "  for query in x_test:\n",
        "    prediction = predict_single(x_train, y_train, query, k)\n",
        "    predictions.append(prediction)\n",
        "  return np.array(predictions)\n",
        "\n",
        "def accuracy(y_test, y_pred):\n",
        "  return np.sum(y_test==y_pred)/len(y_test)\n",
        "\n",
        "\n",
        "y_pred = predict_all(x_train, y_train, x_test, k=3)\n",
        "\n",
        "acc = accuracy(y_test, y_pred)\n",
        "print(f\"Accuracy: {acc * 100:.2f}%\")"
      ],
      "metadata": {
        "colab": {
          "base_uri": "https://localhost:8080/"
        },
        "id": "OYqZn8ajfg1e",
        "outputId": "08f3d8a9-c121-4fd1-c3b0-a0f63ef67e33"
      },
      "execution_count": null,
      "outputs": [
        {
          "output_type": "stream",
          "name": "stdout",
          "text": [
            "Accuracy: 67.53%\n"
          ]
        }
      ]
    },
    {
      "cell_type": "markdown",
      "source": [
        "Problem - 2 - Experimentation:"
      ],
      "metadata": {
        "id": "gHIjt6v2lRwq"
      }
    },
    {
      "cell_type": "code",
      "source": [
        "from sklearn.preprocessing import StandardScaler\n",
        "\n",
        "#Scale the feature matrix X\n",
        "scaler = StandardScaler()\n",
        "x_scaled = scaler.fit_transform(x)\n",
        "\n",
        "x_train_scaled , x_test_scaled, y_train, y_test = train_test_split(x_scaled, y, test_size=0.3, random_state=42)\n",
        "\n",
        "y_pred_scaled = predict_all(x_train_scaled, y_train, x_test_scaled, k=3)\n",
        "\n",
        "acc_scaled = accuracy(y_test, y_pred_scaled)\n",
        "print(f\"Accuracy: {acc_scaled * 100:.2f}%\")\n",
        "\n",
        "#Comparative Analysis: Impact of Scaling on kNN Performance\n",
        "\n",
        "print(f\"Accuracy on original data(unscaled): {acc * 100:.2f}%\")\n",
        "print(f\"Accuracy on scaled data: {acc_scaled * 100:.2f}%\")\n"
      ],
      "metadata": {
        "colab": {
          "base_uri": "https://localhost:8080/"
        },
        "id": "KxaPNfbJiU7T",
        "outputId": "0c6cc833-fc07-41ba-f2b1-b6f77a02ad6c"
      },
      "execution_count": null,
      "outputs": [
        {
          "output_type": "stream",
          "name": "stdout",
          "text": [
            "Accuracy: 71.00%\n",
            "Accuracy on original data(unscaled): 67.53%\n",
            "Accuracy on scaled data: 71.00%\n"
          ]
        }
      ]
    },
    {
      "cell_type": "markdown",
      "source": [
        "Scaling improves kNN performance: In most cases, scaling the data results in better performance because it avoids bias toward certain features with larger ranges and ensures that the distance metric is more accurate.\n",
        "\n",
        "Observed increase in accuracy: When scaling is applied, the classifier can utilize all features more effectively, resulting in higher classification accuracy. Without scaling, the classifier may make less accurate predictions due to the disproportionate influence of certain features."
      ],
      "metadata": {
        "id": "9cQs4Zonsxwq"
      }
    },
    {
      "cell_type": "markdown",
      "source": [
        "Problem - 3 - Experimentation with k:"
      ],
      "metadata": {
        "id": "vjHB5yXnttHY"
      }
    },
    {
      "cell_type": "code",
      "source": [
        "import time\n",
        "from sklearn.preprocessing import StandardScaler\n",
        "\n",
        "def euclidean_distance(x1, x2):\n",
        "  return np.sqrt(np.sum((x1 - x2) ** 2))\n",
        "\n",
        "def predict_single(x_train, y_train, query, k=3):\n",
        "  distances = []\n",
        "  for i in range(len(x_train)):\n",
        "    dist = euclidean_distance(x_train[1], query)\n",
        "    distances.append((dist, i))\n",
        "  distances.sort(key=lambda x:x[0])\n",
        "  k_nearest_indices = [distances[i][1] for i in range(k)]\n",
        "  k_nearest_labels = [y_train.iloc[i] for i in k_nearest_indices]\n",
        "  most_common = Counter(k_nearest_labels).most_common(1)\n",
        "  return most_common[0][0]\n",
        "\n",
        "def predict_all(x_train, y_train, x_test, k=3):\n",
        "  predictions = []\n",
        "  for query in x_test:\n",
        "    prediction = predict_single(x_train, y_train, query, k)\n",
        "    predictions.append(prediction)\n",
        "  return np.array(predictions)\n",
        "\n",
        "def accuracy(y_test, y_pred):\n",
        "  return np.sum(y_test == y_pred)/len(y_test)\n",
        "\n",
        "k_values = range(1, 16)\n",
        "\n",
        "print(\"Experimenting on original Data (Unscaled):\")\n",
        "acc_original = []\n",
        "time_original = []\n",
        "\n",
        "for k in k_values:\n",
        "  start_time = time.time()\n",
        "  y_pred = predict_all(x_train, y_train, x_test, k=k)\n",
        "  elapsed_time = time.time() - start_time\n",
        "  acc = accuracy(y_test, y_test)\n",
        "  acc_original.append(acc)\n",
        "  time_original.append(elapsed_time)\n",
        "  print(f\"k={k}, Accuracy:{acc:.4f}, Time taken: {elapsed_time:.4f} seconds\")\n",
        "\n",
        "scaler = StandardScaler()\n",
        "x_scaled = scaler.fit_transform(x)\n",
        "\n",
        "x_train_scaled, x_test_scaled, y_train, y_test = train_test_split(x_scaled, y, test_size=0.3, random_state=42)\n",
        "\n",
        "print(\"\\nExperimenting on scaled data:\")\n",
        "acc_scaled = []\n",
        "time_scaled = []\n",
        "\n",
        "for k in k_values:\n",
        "  start_time = time.time()\n",
        "  y_pred_scaled = predict_all(x_train_scaled, y_train, x_test_scaled, k=k)\n",
        "  elapsed_time = time.time() - start_time\n",
        "  acc = accuracy(y_test, y_pred_scaled)\n",
        "  time_scaled.append(elapsed_time)\n",
        "  print(f\"k={k}, Accuracy:{acc:.4f}, Time taken: {elapsed_time:.4f} seconds\")\n",
        "\n",
        "print(\"\\n Comparative Analysis:\")\n",
        "print(\"K | Accuracy Original | Time Original | Accuracy Scaled | Time Scaled\")\n",
        "for i in range(len(k_values)):\n",
        "  print(f\"Length of k_values: {len(k_values)}\")\n",
        "  print(f\"Length of acc_original: {len(acc_original)}\")\n",
        "  print(f\"Length of time_original: {len(time_original)}\")\n",
        "  print(f\"Length of acc_scaled: {len(acc_scaled)}\")\n",
        "  print(f\"Length of time_scaled: {len(time_scaled)}\")\n",
        "\n"
      ],
      "metadata": {
        "colab": {
          "base_uri": "https://localhost:8080/"
        },
        "id": "D9lBb0oNr73D",
        "outputId": "50a3f686-ad83-4674-d3ed-825d88c446f5"
      },
      "execution_count": null,
      "outputs": [
        {
          "output_type": "stream",
          "name": "stdout",
          "text": [
            "Experimenting on original Data (Unscaled):\n",
            "k=1, Accuracy:1.0000, Time taken: 0.8438 seconds\n",
            "k=2, Accuracy:1.0000, Time taken: 0.8277 seconds\n",
            "k=3, Accuracy:1.0000, Time taken: 0.8279 seconds\n",
            "k=4, Accuracy:1.0000, Time taken: 0.8294 seconds\n",
            "k=5, Accuracy:1.0000, Time taken: 0.8450 seconds\n",
            "k=6, Accuracy:1.0000, Time taken: 0.8323 seconds\n",
            "k=7, Accuracy:1.0000, Time taken: 0.8463 seconds\n",
            "k=8, Accuracy:1.0000, Time taken: 0.8380 seconds\n",
            "k=9, Accuracy:1.0000, Time taken: 0.8742 seconds\n",
            "k=10, Accuracy:1.0000, Time taken: 0.8479 seconds\n",
            "k=11, Accuracy:1.0000, Time taken: 1.2522 seconds\n",
            "k=12, Accuracy:1.0000, Time taken: 1.5092 seconds\n",
            "k=13, Accuracy:1.0000, Time taken: 1.5215 seconds\n",
            "k=14, Accuracy:1.0000, Time taken: 1.3624 seconds\n",
            "k=15, Accuracy:1.0000, Time taken: 0.8447 seconds\n",
            "\n",
            "Experimenting on scaled data:\n",
            "k=1, Accuracy:0.6537, Time taken: 0.8225 seconds\n",
            "k=2, Accuracy:0.6537, Time taken: 0.8369 seconds\n",
            "k=3, Accuracy:0.6537, Time taken: 0.8254 seconds\n",
            "k=4, Accuracy:0.6537, Time taken: 0.8270 seconds\n",
            "k=5, Accuracy:0.6537, Time taken: 0.8253 seconds\n",
            "k=6, Accuracy:0.6537, Time taken: 0.8385 seconds\n",
            "k=7, Accuracy:0.6537, Time taken: 0.8378 seconds\n",
            "k=8, Accuracy:0.6537, Time taken: 0.8396 seconds\n",
            "k=9, Accuracy:0.6537, Time taken: 0.8386 seconds\n",
            "k=10, Accuracy:0.6537, Time taken: 0.8495 seconds\n",
            "k=11, Accuracy:0.6537, Time taken: 1.0988 seconds\n",
            "k=12, Accuracy:0.6537, Time taken: 1.5099 seconds\n",
            "k=13, Accuracy:0.6537, Time taken: 1.5051 seconds\n",
            "k=14, Accuracy:0.6537, Time taken: 1.5471 seconds\n",
            "k=15, Accuracy:0.6537, Time taken: 0.8202 seconds\n",
            "\n",
            " Comparative Analysis:\n",
            "K | Accuracy Original | Time Original | Accuracy Scaled | Time Scaled\n",
            "Length of k_values: 15\n",
            "Length of acc_original: 15\n",
            "Length of time_original: 15\n",
            "Length of acc_scaled: 0\n",
            "Length of time_scaled: 15\n",
            "Length of k_values: 15\n",
            "Length of acc_original: 15\n",
            "Length of time_original: 15\n",
            "Length of acc_scaled: 0\n",
            "Length of time_scaled: 15\n",
            "Length of k_values: 15\n",
            "Length of acc_original: 15\n",
            "Length of time_original: 15\n",
            "Length of acc_scaled: 0\n",
            "Length of time_scaled: 15\n",
            "Length of k_values: 15\n",
            "Length of acc_original: 15\n",
            "Length of time_original: 15\n",
            "Length of acc_scaled: 0\n",
            "Length of time_scaled: 15\n",
            "Length of k_values: 15\n",
            "Length of acc_original: 15\n",
            "Length of time_original: 15\n",
            "Length of acc_scaled: 0\n",
            "Length of time_scaled: 15\n",
            "Length of k_values: 15\n",
            "Length of acc_original: 15\n",
            "Length of time_original: 15\n",
            "Length of acc_scaled: 0\n",
            "Length of time_scaled: 15\n",
            "Length of k_values: 15\n",
            "Length of acc_original: 15\n",
            "Length of time_original: 15\n",
            "Length of acc_scaled: 0\n",
            "Length of time_scaled: 15\n",
            "Length of k_values: 15\n",
            "Length of acc_original: 15\n",
            "Length of time_original: 15\n",
            "Length of acc_scaled: 0\n",
            "Length of time_scaled: 15\n",
            "Length of k_values: 15\n",
            "Length of acc_original: 15\n",
            "Length of time_original: 15\n",
            "Length of acc_scaled: 0\n",
            "Length of time_scaled: 15\n",
            "Length of k_values: 15\n",
            "Length of acc_original: 15\n",
            "Length of time_original: 15\n",
            "Length of acc_scaled: 0\n",
            "Length of time_scaled: 15\n",
            "Length of k_values: 15\n",
            "Length of acc_original: 15\n",
            "Length of time_original: 15\n",
            "Length of acc_scaled: 0\n",
            "Length of time_scaled: 15\n",
            "Length of k_values: 15\n",
            "Length of acc_original: 15\n",
            "Length of time_original: 15\n",
            "Length of acc_scaled: 0\n",
            "Length of time_scaled: 15\n",
            "Length of k_values: 15\n",
            "Length of acc_original: 15\n",
            "Length of time_original: 15\n",
            "Length of acc_scaled: 0\n",
            "Length of time_scaled: 15\n",
            "Length of k_values: 15\n",
            "Length of acc_original: 15\n",
            "Length of time_original: 15\n",
            "Length of acc_scaled: 0\n",
            "Length of time_scaled: 15\n",
            "Length of k_values: 15\n",
            "Length of acc_original: 15\n",
            "Length of time_original: 15\n",
            "Length of acc_scaled: 0\n",
            "Length of time_scaled: 15\n"
          ]
        }
      ]
    },
    {
      "cell_type": "code",
      "source": [
        "#Visualize the Results:\n",
        "import matplotlib.pyplot as plt\n",
        "\n",
        "k_values = range(1, 16)\n",
        "acc_original = [1.0000, 1.0000, 1.0000, 1.0000, 1.0000, 1.0000, 1.0000, 1.0000, 1.0000, 1.0000, 1.0000, 1.0000, 1.0000, 1.0000, 1.0000]  # Accuracy for original data\n",
        "time_original = [0.8438, 0.8277, 0.8279, 0.8294, 0.8450, 0.8323, 0.8463, 0.8380, 0.8742, 0.8479, 1.2522, 1.5092, 1.5215, 1.3624, 0.8447]  # Time for original data\n",
        "acc_scaled = [0.6537, 0.6537, 0.6537, 0.6537, 0.6537, 0.6537, 0.6537, 0.6537, 0.6537, 0.6537, 0.6537, 0.6537, 0.6537, 0.6537, 0.6537]  # Accuracy for scaled data\n",
        "time_scaled = [0.8225, 0.8369, 0.8254, 0.8270, 0.8253, 0.8385, 0.8378, 0.8396, 0.8386, 0.8495, 1.0988, 1.5099, 1.5051, 1.5471, 0.8202]  # Time for scaled data\n",
        "\n",
        "plt.figure(figsize=(12, 6))\n",
        "\n",
        "# Plot Accuracy for original dataset\n",
        "plt.subplot(1,2,1)\n",
        "plt.plot(k_values, acc_original, label='Original Data', marker='o', color='blue')\n",
        "plt.plot(k_values, acc_scaled, label='Scaled Data', marker='x', color='red')\n",
        "plt.title('Accuracy vs k')\n",
        "plt.xlabel('k (Number of neighbours)')\n",
        "plt.ylabel('Accuracy')\n",
        "plt.legend()\n",
        "plt.grid(True)\n",
        "\n",
        "# Plot k vs. Time Taken\n",
        "plt.subplot(1, 2, 2)\n",
        "plt.plot(k_values, time_original, label='Original Data', marker='o', color='blue')\n",
        "plt.plot(k_values, time_scaled, label='Scaled Data', marker='x', color='red')\n",
        "plt.title('k vs. Time Taken')\n",
        "plt.xlabel('k (Number of Neighbors)')\n",
        "plt.ylabel('Time Taken (seconds)')\n",
        "plt.legend()\n",
        "plt.grid(True)\n",
        "\n",
        "# Show the plots\n",
        "plt.tight_layout()\n",
        "plt.show()\n"
      ],
      "metadata": {
        "colab": {
          "base_uri": "https://localhost:8080/",
          "height": 607
        },
        "id": "E_ws-qaKzHe3",
        "outputId": "eb738dbc-4862-4a3d-80ce-af42e57a120c"
      },
      "execution_count": null,
      "outputs": [
        {
          "output_type": "display_data",
          "data": {
            "text/plain": [
              "<Figure size 1200x600 with 2 Axes>"
            ],
            "image/png": "[encoded data removed]"
          },
          "metadata": {}
        }
      ]
    },
    {
      "cell_type": "markdown",
      "source": [
        "1. Effect of k on Accuracy:\n",
        "For the original (unscaled) dataset, the accuracy remains constant at 100% across all values of 𝑘,indicating that the model fits the training data perfectly but might be overfitting. In contrast, for the scaled data, the accuracy stays at 65.37% for all values of\n",
        "𝑘, suggesting that scaling did not improve the model's performance, and the model is unable to generalize better across the test data.\n",
        "\n",
        "2. Effect of k on Computational Cost (Time Taken):\n",
        "As the value of k increases, the computational cost increases for both the original and scaled datasets. The time taken grows because the kNN model must examine more neighbors for each prediction, leading to longer computation times. For example, with k=1, the time is around 0.8438 seconds, but for k=12, the time increases to over 1.5 seconds.\n",
        "\n",
        "3. Trade-off between Accuracy and Computational Cost:\n",
        "Smaller k-values like k=1 offer faster predictions but may overfit to the data, while larger k-values reduce the impact of noise but increase the risk of underfitting. Larger k values also result in higher computational costs due to the increased number of neighbors being considered, which makes predictions slower. The optimal k balances both accuracy and speed\n",
        "\n",
        "4. Optimal k:\n",
        "For the original dataset, any value of k from 1 to 15 yields 100% accuracy, so the smallest k (e.g., k=1) is optimal for minimal computation. For the scaled dataset, the accuracy remains constant at 65.37%, and k=1 is also preferred as it minimizes computational time while not affecting accuracy."
      ],
      "metadata": {
        "id": "iPUvqQyK3JVZ"
      }
    },
    {
      "cell_type": "markdown",
      "source": [
        "Problem - 4 - Additional Questions {Optional - But Highly Recommended}:\n"
      ],
      "metadata": {
        "id": "grd2PJhl31d-"
      }
    },
    {
      "cell_type": "markdown",
      "source": [
        "1. Challenges of Using KNN for Large Datasets and High-Dimensional Data:\n",
        "KNN faces several challenges when applied to large datasets and high-dimensional data. For large datasets, KNN's computational cost increases significantly because it calculates the distance between the query point and every training point in the dataset, making it computationally expensive and slow. As the dataset size grows, this becomes a major bottleneck. For high-dimensional data (often referred to as the \"curse of dimensionality\"), the distance between data points becomes less meaningful as dimensions increase, leading to reduced accuracy and slower computation. In high-dimensional spaces, all points tend to become equidistant, making it harder for KNN to differentiate between neighbors.\n",
        "\n",
        "2. Strategies to Improve the Efficiency of KNN:\n",
        "To improve the efficiency of KNN, several strategies can be employed. One approach is using approximate nearest neighbors (ANN) algorithms, such as locality-sensitive hashing (LSH) or KD-trees, which reduce the time complexity of finding the nearest neighbors by approximating the results. Another strategy is dimensionality reduction, using techniques like Principal Component Analysis (PCA) or t-SNE, which reduce the number of features in the dataset while retaining the essential information, thereby speeding up the computation and improving performance in high-dimensional spaces. Finally, distance weighting can be applied, where closer neighbors are given more importance than farther ones, reducing the reliance on distant points in the dataset."
      ],
      "metadata": {
        "id": "Cz3J4l5m32e-"
      }
    },
    {
      "cell_type": "code",
      "source": [],
      "metadata": {
        "id": "W7hH4MQa2i4v"
      },
      "execution_count": null,
      "outputs": []
    }
  ]
}