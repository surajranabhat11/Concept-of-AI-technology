{
  "nbformat": 4,
  "nbformat_minor": 0,
  "metadata": {
    "colab": {
      "provenance": []
    },
    "kernelspec": {
      "name": "python3",
      "display_name": "Python 3"
    },
    "language_info": {
      "name": "python"
    }
  },
  "cells": [
    {
      "cell_type": "markdown",
      "source": [
        "Problem - 1: Array Creation:"
      ],
      "metadata": {
        "id": "_TI-ClsCp61X"
      }
    },
    {
      "cell_type": "code",
      "execution_count": null,
      "metadata": {
        "colab": {
          "base_uri": "https://localhost:8080/"
        },
        "id": "DwQiXJ5NYN8y",
        "outputId": "7caed041-e175-423e-f0ab-aaf5ba94e42a"
      },
      "outputs": [
        {
          "output_type": "stream",
          "name": "stdout",
          "text": [
            "[[4.73430977e-310 0.00000000e+000]\n",
            " [0.00000000e+000 0.00000000e+000]]\n"
          ]
        }
      ],
      "source": [
        "#Initialize an empty array with size 2X2.\n",
        "import numpy as np\n",
        "empty_array = np.empty((2,2))\n",
        "print(empty_array)"
      ]
    },
    {
      "cell_type": "code",
      "source": [
        "#Initialize an all one array with size 4X2.\n",
        "import numpy as np\n",
        "one_array = np.ones((4,2))\n",
        "print(one_array)\n"
      ],
      "metadata": {
        "colab": {
          "base_uri": "https://localhost:8080/"
        },
        "id": "9CTQHEJblksK",
        "outputId": "f284eebc-f661-4d95-fc4c-a9a1cbdfa563"
      },
      "execution_count": null,
      "outputs": [
        {
          "output_type": "stream",
          "name": "stdout",
          "text": [
            "[[1. 1.]\n",
            " [1. 1.]\n",
            " [1. 1.]\n",
            " [1. 1.]]\n"
          ]
        }
      ]
    },
    {
      "cell_type": "code",
      "source": [
        "#Return a new array of given shape and type, filled with fill value.{Hint: np.full}\n",
        "import numpy as np\n",
        "fill_value = np.full((5,4),6)\n",
        "print(fill_value)"
      ],
      "metadata": {
        "colab": {
          "base_uri": "https://localhost:8080/"
        },
        "id": "dKqkRYtPnBIQ",
        "outputId": "29d7e84b-b492-4d1f-c539-148af5eafc2a"
      },
      "execution_count": null,
      "outputs": [
        {
          "output_type": "stream",
          "name": "stdout",
          "text": [
            "[[6 6 6 6]\n",
            " [6 6 6 6]\n",
            " [6 6 6 6]\n",
            " [6 6 6 6]\n",
            " [6 6 6 6]]\n"
          ]
        }
      ]
    },
    {
      "cell_type": "code",
      "source": [
        "#Return a new array of zeros with same shape and type as a given array.{Hint: np.zeros like}\n",
        "import numpy as np\n",
        "zero_array = np.zeros_like(fill_value)\n",
        "print(zero_array)"
      ],
      "metadata": {
        "colab": {
          "base_uri": "https://localhost:8080/"
        },
        "id": "HidTR5pZok3i",
        "outputId": "38f01108-b396-41cf-f88c-44c55c26bf38"
      },
      "execution_count": null,
      "outputs": [
        {
          "output_type": "stream",
          "name": "stdout",
          "text": [
            "[[0 0 0 0]\n",
            " [0 0 0 0]\n",
            " [0 0 0 0]\n",
            " [0 0 0 0]\n",
            " [0 0 0 0]]\n"
          ]
        }
      ]
    },
    {
      "cell_type": "code",
      "source": [
        "#Return a new array of ones with same shape and type as a given array.{Hint: np.ones like}\n",
        "import numpy as np\n",
        "one_array = np.ones_like(zero_array)\n",
        "print(one_array)"
      ],
      "metadata": {
        "colab": {
          "base_uri": "https://localhost:8080/"
        },
        "id": "2QPwjOloo9KN",
        "outputId": "36ee2541-90c6-4ead-af3d-029b09a9327d"
      },
      "execution_count": null,
      "outputs": [
        {
          "output_type": "stream",
          "name": "stdout",
          "text": [
            "[[1 1 1 1]\n",
            " [1 1 1 1]\n",
            " [1 1 1 1]\n",
            " [1 1 1 1]\n",
            " [1 1 1 1]]\n"
          ]
        }
      ]
    },
    {
      "cell_type": "code",
      "source": [
        "#For an existing list new_list = [1,2,3,4] convert to an numpy array.{Hint: np.array()}\n",
        "import numpy as np\n",
        "new_list = [1,2,3,4]\n",
        "new_array = np.array(new_list)\n",
        "print(new_array)"
      ],
      "metadata": {
        "colab": {
          "base_uri": "https://localhost:8080/"
        },
        "id": "DZ52WrNFpaVZ",
        "outputId": "de4414d7-022d-467c-8bd4-e09f7209e245"
      },
      "execution_count": null,
      "outputs": [
        {
          "output_type": "stream",
          "name": "stdout",
          "text": [
            "[1 2 3 4]\n"
          ]
        }
      ]
    },
    {
      "cell_type": "markdown",
      "source": [
        "Problem - 2: Array Manipulation: Numerical Ranges and Array indexing:"
      ],
      "metadata": {
        "id": "3G-6RLH-qIHv"
      }
    },
    {
      "cell_type": "code",
      "source": [
        "#Create an array with values ranging from 10 to 49. {Hint:np.arrange()}.\n",
        "import numpy as np\n",
        "array_arrange = np.arange(10,49)\n",
        "print(array_arrange)"
      ],
      "metadata": {
        "colab": {
          "base_uri": "https://localhost:8080/"
        },
        "id": "h-UVrAslprsh",
        "outputId": "375dc9c8-c87c-4af2-b44c-b07f08f41d52"
      },
      "execution_count": null,
      "outputs": [
        {
          "output_type": "stream",
          "name": "stdout",
          "text": [
            "[10 11 12 13 14 15 16 17 18 19 20 21 22 23 24 25 26 27 28 29 30 31 32 33\n",
            " 34 35 36 37 38 39 40 41 42 43 44 45 46 47 48]\n"
          ]
        }
      ]
    },
    {
      "cell_type": "code",
      "source": [
        "#Create a 3X3 matrix with values ranging from 0 to 8.{Hint:look for np.reshape()}\n",
        "import numpy as np\n",
        "array_shape = np.arange(0,9).reshape(3,3)\n",
        "print(array_shape)"
      ],
      "metadata": {
        "colab": {
          "base_uri": "https://localhost:8080/"
        },
        "id": "87UQd1nJqhHR",
        "outputId": "c2229053-4508-4f61-b691-087a71854a29"
      },
      "execution_count": null,
      "outputs": [
        {
          "output_type": "stream",
          "name": "stdout",
          "text": [
            "[[0 1 2]\n",
            " [3 4 5]\n",
            " [6 7 8]]\n"
          ]
        }
      ]
    },
    {
      "cell_type": "code",
      "source": [
        "#Create a 3X3 identity matrix.{Hint:np.eye()}\n",
        "import numpy as np\n",
        "array_eye = np.eye(3,3)\n",
        "print(array_eye)"
      ],
      "metadata": {
        "colab": {
          "base_uri": "https://localhost:8080/"
        },
        "id": "_Jd5bMOdrIdx",
        "outputId": "5d634fbd-5439-4248-8180-70c58fb6961d"
      },
      "execution_count": null,
      "outputs": [
        {
          "output_type": "stream",
          "name": "stdout",
          "text": [
            "[[1. 0. 0.]\n",
            " [0. 1. 0.]\n",
            " [0. 0. 1.]]\n"
          ]
        }
      ]
    },
    {
      "cell_type": "code",
      "source": [
        "#Create a random array of size 30 and find the mean of the array. {Hint:check for np.random.random() and array.mean() function}\n",
        "import numpy as np\n",
        "random_array = np.random.random(30)\n",
        "mean_array = random_array.mean()\n",
        "print(mean_array)"
      ],
      "metadata": {
        "colab": {
          "base_uri": "https://localhost:8080/"
        },
        "id": "eJFCUwjLrSrc",
        "outputId": "273923d4-3b58-446c-ad96-6a8ef99bd83c"
      },
      "execution_count": null,
      "outputs": [
        {
          "output_type": "stream",
          "name": "stdout",
          "text": [
            "0.5507252675633549\n"
          ]
        }
      ]
    },
    {
      "cell_type": "code",
      "source": [
        "#Create a 10X10 array with random values and find the minimum and maximum values.\n",
        "import numpy as np\n",
        "random_array = np.random.random((10,10))\n",
        "min = random_array.min()\n",
        "max = random_array.max()\n",
        "print(min)\n",
        "print(max)"
      ],
      "metadata": {
        "colab": {
          "base_uri": "https://localhost:8080/"
        },
        "id": "UD9fnLqZsMZK",
        "outputId": "6c430da5-0af6-454b-8ce6-b477e66fb93f"
      },
      "execution_count": null,
      "outputs": [
        {
          "output_type": "stream",
          "name": "stdout",
          "text": [
            "0.007780011025022682\n",
            "0.9939738330578829\n"
          ]
        }
      ]
    },
    {
      "cell_type": "code",
      "source": [
        "#Create a zero array of size 10 and replace 5th element with 1.\n",
        "import numpy as np\n",
        "zero_array = np.zeros(10)\n",
        "zero_array[4] = 1\n",
        "print(zero_array)"
      ],
      "metadata": {
        "colab": {
          "base_uri": "https://localhost:8080/"
        },
        "id": "cddBPkYitPoL",
        "outputId": "77cd249a-b991-4eb0-db21-10bc4cb90fb7"
      },
      "execution_count": null,
      "outputs": [
        {
          "output_type": "stream",
          "name": "stdout",
          "text": [
            "[0. 0. 0. 0. 1. 0. 0. 0. 0. 0.]\n"
          ]
        }
      ]
    },
    {
      "cell_type": "code",
      "source": [
        "#Reverse an array arr = [1,2,0,0,4,0].\n",
        "import numpy as np\n",
        "arr = np.array([1,2,0,0,4,0])\n",
        "arr = arr[::-1]\n",
        "print(arr)"
      ],
      "metadata": {
        "id": "7yxIXHDguB2i",
        "colab": {
          "base_uri": "https://localhost:8080/"
        },
        "outputId": "3bacd998-ef49-46df-e3ca-bb73c55ec1c4"
      },
      "execution_count": null,
      "outputs": [
        {
          "output_type": "stream",
          "name": "stdout",
          "text": [
            "[0 4 0 0 2 1]\n"
          ]
        }
      ]
    },
    {
      "cell_type": "code",
      "source": [
        "#Create a 2d array with 1 on border and 0 inside.\n",
        "import numpy as np\n",
        "rows,cols = 5,6\n",
        "arr = np.ones((rows,cols))\n",
        "arr[1:-1,1:-1] = 0\n",
        "print(arr)"
      ],
      "metadata": {
        "colab": {
          "base_uri": "https://localhost:8080/"
        },
        "id": "zrFkRXcOZYq4",
        "outputId": "142aa452-c66a-4ff0-f4eb-40c6a80712ea"
      },
      "execution_count": null,
      "outputs": [
        {
          "output_type": "stream",
          "name": "stdout",
          "text": [
            "[[1. 1. 1. 1. 1. 1.]\n",
            " [1. 0. 0. 0. 0. 1.]\n",
            " [1. 0. 0. 0. 0. 1.]\n",
            " [1. 0. 0. 0. 0. 1.]\n",
            " [1. 1. 1. 1. 1. 1.]]\n"
          ]
        }
      ]
    },
    {
      "cell_type": "code",
      "source": [
        "#Create a 8X8 matrix and fill it with a checkerboard pattern.\n",
        "import numpy as np\n",
        "n = 8\n",
        "arr = np.zeros((n,n))\n",
        "arr[::2,::2] = 1\n",
        "arr[1::2,1::2] = 1\n",
        "print(arr)"
      ],
      "metadata": {
        "colab": {
          "base_uri": "https://localhost:8080/"
        },
        "id": "hCPPTbWabRxL",
        "outputId": "ce2bad50-bb5c-4f0a-8d08-d8a407e25934"
      },
      "execution_count": null,
      "outputs": [
        {
          "output_type": "stream",
          "name": "stdout",
          "text": [
            "[[1. 0. 1. 0. 1. 0. 1. 0.]\n",
            " [0. 1. 0. 1. 0. 1. 0. 1.]\n",
            " [1. 0. 1. 0. 1. 0. 1. 0.]\n",
            " [0. 1. 0. 1. 0. 1. 0. 1.]\n",
            " [1. 0. 1. 0. 1. 0. 1. 0.]\n",
            " [0. 1. 0. 1. 0. 1. 0. 1.]\n",
            " [1. 0. 1. 0. 1. 0. 1. 0.]\n",
            " [0. 1. 0. 1. 0. 1. 0. 1.]]\n"
          ]
        }
      ]
    },
    {
      "cell_type": "code",
      "source": [
        "#Problem - 3: Array Operations:\n",
        "import numpy as np\n",
        "x = np.array([[1,2],[3,5]])\n",
        "y = np.array([[5,6],[7,8]])\n",
        "v = np.array([9,10])\n",
        "w = np.array([9,10])\n",
        "\n",
        "#ADD\n",
        "add = x + y\n",
        "print(\"Addition between x and y\",add)\n",
        "\n",
        "#Subtract\n",
        "sub = v - w\n",
        "print(\"Difference of v and w\",sub)\n",
        "\n",
        "#multiply\n",
        "multiply = 9 * x\n",
        "print(\"x multiplied by 9\",multiply)\n",
        "\n",
        "#Square\n",
        "sq = np.square(x)\n",
        "print(\"Square of x\",sq)\n",
        "\n",
        "#Dot product\n",
        "vwpro = np.dot(v,w)\n",
        "xvpro = np.dot(x,v)\n",
        "xypro = np.dot(x,y)\n",
        "\n",
        "print(\"Dot product of v and w\",vwpro)\n",
        "print(\"Dot product of x and v\",xvpro)\n",
        "print(\"Dot product of x and y\",xypro)"
      ],
      "metadata": {
        "colab": {
          "base_uri": "https://localhost:8080/"
        },
        "id": "ghn35RhschSm",
        "outputId": "9d1fae09-dd9b-420b-d2c4-1a9561bc164b"
      },
      "execution_count": null,
      "outputs": [
        {
          "output_type": "stream",
          "name": "stdout",
          "text": [
            "Addition between x and y [[ 6  8]\n",
            " [10 13]]\n",
            "Difference of v and w [0 0]\n",
            "x multiplied by 9 [[ 9 18]\n",
            " [27 45]]\n",
            "Square of x [[ 1  4]\n",
            " [ 9 25]]\n",
            "Dot product of v and w 181\n",
            "Dot product of x and v [29 77]\n",
            "Dot product of x and y [[19 22]\n",
            " [50 58]]\n"
          ]
        }
      ]
    },
    {
      "cell_type": "code",
      "source": [
        "#Concatenate along row\n",
        "row_concat = np.concatenate((x,y))\n",
        "print(\"Concatenate along row\",row_concat)\n",
        "\n",
        "#Concatenate along column\n",
        "col_concat = np.vstack((v,w))\n",
        "print(\"Concatenate along col\",col_concat)\n",
        "\n",
        "#Concatenate x and v\n",
        "xv_con = np.concatenate((x,v))\n",
        "print(\"Concatenate x and v\",xv_con)\n",
        "#x and v cannot be concatenated because they are of different diensions. Only array with same dimension can be concatenated."
      ],
      "metadata": {
        "colab": {
          "base_uri": "https://localhost:8080/",
          "height": 315
        },
        "id": "GsLGAxyngmCP",
        "outputId": "b9e90274-c923-42f2-e718-f1d46b64fafc"
      },
      "execution_count": null,
      "outputs": [
        {
          "output_type": "stream",
          "name": "stdout",
          "text": [
            "Concatenate along row [[1 2]\n",
            " [3 5]\n",
            " [5 6]\n",
            " [7 8]]\n",
            "Concatenate along col [[ 9 10]\n",
            " [ 9 10]]\n"
          ]
        },
        {
          "output_type": "error",
          "ename": "ValueError",
          "evalue": "all the input arrays must have same number of dimensions, but the array at index 0 has 2 dimension(s) and the array at index 1 has 1 dimension(s)",
          "traceback": [
            "\u001b[0;31m---------------------------------------------------------------------------\u001b[0m",
            "\u001b[0;31mValueError\u001b[0m                                Traceback (most recent call last)",
            "\u001b[0;32m<ipython-input-20-08a957561dac>\u001b[0m in \u001b[0;36m<cell line: 10>\u001b[0;34m()\u001b[0m\n\u001b[1;32m      8\u001b[0m \u001b[0;34m\u001b[0m\u001b[0m\n\u001b[1;32m      9\u001b[0m \u001b[0;31m#Concatenate x and v\u001b[0m\u001b[0;34m\u001b[0m\u001b[0;34m\u001b[0m\u001b[0m\n\u001b[0;32m---> 10\u001b[0;31m \u001b[0mxv_con\u001b[0m \u001b[0;34m=\u001b[0m \u001b[0mnp\u001b[0m\u001b[0;34m.\u001b[0m\u001b[0mconcatenate\u001b[0m\u001b[0;34m(\u001b[0m\u001b[0;34m(\u001b[0m\u001b[0mx\u001b[0m\u001b[0;34m,\u001b[0m\u001b[0mv\u001b[0m\u001b[0;34m)\u001b[0m\u001b[0;34m)\u001b[0m\u001b[0;34m\u001b[0m\u001b[0;34m\u001b[0m\u001b[0m\n\u001b[0m\u001b[1;32m     11\u001b[0m \u001b[0mprint\u001b[0m\u001b[0;34m(\u001b[0m\u001b[0;34m\"Concatenate x and v\"\u001b[0m\u001b[0;34m,\u001b[0m\u001b[0mxv_con\u001b[0m\u001b[0;34m)\u001b[0m\u001b[0;34m\u001b[0m\u001b[0;34m\u001b[0m\u001b[0m\n\u001b[1;32m     12\u001b[0m \u001b[0;31m#x and v cannot be concatenated because they are of different diensions. Only array with same dimension can be concatenated.\u001b[0m\u001b[0;34m\u001b[0m\u001b[0;34m\u001b[0m\u001b[0m\n",
            "\u001b[0;31mValueError\u001b[0m: all the input arrays must have same number of dimensions, but the array at index 0 has 2 dimension(s) and the array at index 1 has 1 dimension(s)"
          ]
        }
      ]
    },
    {
      "cell_type": "code",
      "source": [
        "#Problem - 4: Matrix Operations:\n",
        "import numpy as np\n",
        "a = np.array([[3,4],[7,8]])\n",
        "b = np.array([[5,3],[2,1]])\n",
        "\n",
        "a_inv = np.linalg.inv(a)\n",
        "identity = np.dot(a,a_inv)\n",
        "print(identity)\n"
      ],
      "metadata": {
        "colab": {
          "base_uri": "https://localhost:8080/"
        },
        "id": "-CV2F8Q8hlW2",
        "outputId": "fa331bf8-ebce-4d58-828a-d5547b361449"
      },
      "execution_count": null,
      "outputs": [
        {
          "output_type": "stream",
          "name": "stdout",
          "text": [
            "[[1.00000000e+00 0.00000000e+00]\n",
            " [1.77635684e-15 1.00000000e+00]]\n"
          ]
        }
      ]
    },
    {
      "cell_type": "code",
      "source": [
        "#ab != ba\n",
        "import numpy as np\n",
        "ab_dot = np.dot(a,b)\n",
        "\n",
        "ba_dot = np.dot(b,a)\n",
        "if not np.array_equal(ab_dot, ba_dot):\n",
        "  print(\"True\")"
      ],
      "metadata": {
        "colab": {
          "base_uri": "https://localhost:8080/"
        },
        "id": "HL_4L02TjA_-",
        "outputId": "4f39bbfc-e837-4eb6-a696-688abd296392"
      },
      "execution_count": null,
      "outputs": [
        {
          "output_type": "stream",
          "name": "stdout",
          "text": [
            "True\n"
          ]
        }
      ]
    },
    {
      "cell_type": "code",
      "source": [
        "#(AB)tran == (b)tran.(a)tran\n",
        "import numpy as np\n",
        "abdot_tran = np.transpose(ab_dot)\n",
        "b_tran = np.transpose(b)\n",
        "a_tran = np.transpose(a)\n",
        "abtran_dot = np.dot(b_tran, a_tran)\n",
        "if np.array_equal(abdot_tran, abtran_dot):\n",
        "  print(\"Equal\")"
      ],
      "metadata": {
        "colab": {
          "base_uri": "https://localhost:8080/"
        },
        "id": "3EiShE9hjcun",
        "outputId": "bbb7c5d1-c4d5-4102-d138-2a2a81441070"
      },
      "execution_count": null,
      "outputs": [
        {
          "output_type": "stream",
          "name": "stdout",
          "text": [
            "Equal\n"
          ]
        }
      ]
    },
    {
      "cell_type": "code",
      "source": [
        "#equation\n",
        "a = np.array([[2,-3,1],[1,-1,2],[3,1,-1]])\n",
        "b = np.array([-1,-3,9])\n",
        "a_inv = np.linalg.inv(a)\n",
        "x = np.dot(a,a_inv)\n",
        "print(\"Solution is:\",x)\n",
        "\n",
        "#Using linalg\n",
        "x = np.linalg.solve(a,b)\n",
        "print(\"Solution using linalg:\",x)"
      ],
      "metadata": {
        "colab": {
          "base_uri": "https://localhost:8080/"
        },
        "id": "8KW2d5cLkXIy",
        "outputId": "a0c36b97-5bce-444c-90fd-1279866905b2"
      },
      "execution_count": null,
      "outputs": [
        {
          "output_type": "stream",
          "name": "stdout",
          "text": [
            "Solution is: [[ 1.00000000e+00 -1.11022302e-16 -8.32667268e-17]\n",
            " [ 0.00000000e+00  1.00000000e+00 -2.77555756e-17]\n",
            " [ 0.00000000e+00  0.00000000e+00  1.00000000e+00]]\n",
            "Solution using linalg: [ 2.  1. -2.]\n"
          ]
        }
      ]
    },
    {
      "cell_type": "code",
      "source": [],
      "metadata": {
        "id": "CpuaRyflqPC3"
      },
      "execution_count": null,
      "outputs": []
    }
  ]
}